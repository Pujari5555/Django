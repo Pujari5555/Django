{
  "nbformat": 4,
  "nbformat_minor": 0,
  "metadata": {
    "colab": {
      "provenance": []
    },
    "kernelspec": {
      "name": "python3",
      "display_name": "Python 3"
    },
    "language_info": {
      "name": "python"
    }
  },
  "cells": [
    {
      "cell_type": "markdown",
      "source": [
        "**Question 1: By default are django signals executed synchronously or asynchronously? Please support your answer with a code snippet that conclusively proves your stance. The code does not need to be elegant and production ready, we just need to understand your logic.**\n"
      ],
      "metadata": {
        "id": "MQsjlg-_bMC8"
      }
    },
    {
      "cell_type": "markdown",
      "source": [
        "**When the signal is sent, the program will output the following:\n",
        "\"Sending signal...\": This indicates that the signal is being sent.\n",
        "\"Signal received! Starting a long task...\": The receiver (my_signal_receiver) is triggered immediately upon the signal being sent.\n",
        "After a 5-second delay (simulating a long task), it prints \"Task completed!\".\n",
        "Finally, \"Signal sent!\" is printed after the signal-handling function has completed.**"
      ],
      "metadata": {
        "id": "K37fb7qRapN6"
      }
    },
    {
      "cell_type": "code",
      "execution_count": null,
      "metadata": {
        "colab": {
          "base_uri": "https://localhost:8080/"
        },
        "id": "U-e8QtTxYu7M",
        "outputId": "565c779c-5586-440b-b4ca-44338debf42d"
      },
      "outputs": [
        {
          "output_type": "stream",
          "name": "stdout",
          "text": [
            "Sending signal...\n",
            "Signal received! Starting a long task...\n",
            "Task completed!\n",
            "Signal sent!\n"
          ]
        }
      ],
      "source": [
        "import time\n",
        "from django.dispatch import Signal, receiver\n",
        "\n",
        "my_signal = Signal()\n",
        "\n",
        "@receiver(my_signal)\n",
        "def my_signal_receiver(sender, **kwargs):\n",
        "    print(\"Signal received! Starting a long task...\")\n",
        "    time.sleep(5)\n",
        "    print(\"Task completed!\")\n",
        "\n",
        "print(\"Sending signal...\")\n",
        "my_signal.send(sender=None)\n",
        "print(\"Signal sent!\")"
      ]
    },
    {
      "cell_type": "markdown",
      "source": [
        "**The fact that \"Signal sent!\" is only printed after the receiver function (my_signal_receiver) finishes its task demonstrates that Django signals are executed synchronously by default. The signal sender waits for the receiver function to complete before continuing.**"
      ],
      "metadata": {
        "id": "kRwQ90gMbaNR"
      }
    },
    {
      "cell_type": "markdown",
      "source": [
        "**Question 2: Do django signals run in the same thread as the caller? Please support your answer with a code snippet that conclusively proves your stance. The code does not need to be elegant and production ready, we just need to understand your logic.**\n"
      ],
      "metadata": {
        "id": "-uLUYWzPbdlN"
      }
    },
    {
      "cell_type": "markdown",
      "source": [
        "\n",
        "threading is used to get the current thread's name, while Signal and receiver are for Django signals.\n",
        "\n",
        "my_signal = Signal() defines a custom signal.\n",
        "\n",
        "my_signal_receiver listens for my_signal and prints the current thread when the signal is received.\n",
        "\n",
        "send_signal() prints the thread from which the signal is sent and triggers the signal.\n",
        "\n",
        "send_signal() is executed, sending the signal and calling the receiver."
      ],
      "metadata": {
        "id": "cBe-TIryficL"
      }
    },
    {
      "cell_type": "code",
      "source": [
        "import threading\n",
        "from django.dispatch import Signal, receiver\n",
        "\n",
        "my_signal = Signal()\n",
        "\n",
        "@receiver(my_signal)\n",
        "def my_signal_receiver(sender, **kwargs):\n",
        "    print(f\"Signal handled in thread: {threading.current_thread().name}\")\n",
        "\n",
        "def send_signal():\n",
        "    print(f\"Signal sent from thread: {threading.current_thread().name}\")\n",
        "    my_signal.send(sender=None)\n",
        "\n",
        "send_signal()\n"
      ],
      "metadata": {
        "colab": {
          "base_uri": "https://localhost:8080/"
        },
        "id": "HgbPttADY1ZQ",
        "outputId": "8585672c-dbc5-4809-9abe-cecfa1103dc4"
      },
      "execution_count": null,
      "outputs": [
        {
          "output_type": "stream",
          "name": "stdout",
          "text": [
            "Signal sent from thread: MainThread\n",
            "Signal handled in thread: MainThread\n"
          ]
        }
      ]
    },
    {
      "cell_type": "markdown",
      "source": [
        "**By default, Django signals run in the same thread as the caller. This behavior is demonstrated in the code by printing the thread name both when the signal is sent and when it is received. Since the output shows that both the signal-sending function and the receiver function run in the MainThread, it conclusively proves that Django signals are synchronous and execute in the same thread as the caller, without creating new threads or processes.**"
      ],
      "metadata": {
        "id": "jBzIlmIAfBgm"
      }
    },
    {
      "cell_type": "markdown",
      "source": [
        "**Question 3: By default do django signals run in the same database transaction as the caller? Please support your answer with a code snippet that conclusively proves your stance. The code does not need to be elegant and production ready, we just need to understand your logic.**"
      ],
      "metadata": {
        "id": "NGqNJU5McAlD"
      }
    },
    {
      "cell_type": "markdown",
      "source": [
        "# Steps:\n",
        "\n",
        "1. Install Django using `!pip install django` to ensure it is available in the environment.\n",
        "2. Set `os.environ[\"DJANGO_ALLOW_ASYNC_UNSAFE\"] = \"true\"` to allow synchronous database access in asynchronous environments like Jupyter notebooks.\n",
        "3. Import the necessary modules (`transaction`, `Signal`, `receiver`, `connection`, and `settings`) for handling signals, transactions, and configuring Django settings.\n",
        "4. Create a custom signal with `my_signal = Signal()`.\n",
        "5. Define the `my_signal_receiver` function to listen for the signal and check if it is running inside a database transaction using `connection.in_atomic_block`.\n",
        "6. Use `settings.configure()` to set up a dummy in-memory SQLite database if Django’s settings are not configured.\n",
        "7. Send the signal within a transaction using `transaction.atomic()` and check if both the signal sender and receiver are in the same transaction block.\n",
        "8. Call the `send_signal_in_transaction()` function to execute and demonstrate signal behavior inside a transaction."
      ],
      "metadata": {
        "id": "yyQy5O3nbvMs"
      }
    },
    {
      "cell_type": "code",
      "source": [
        "!pip install django\n",
        "import os\n",
        "os.environ[\"DJANGO_ALLOW_ASYNC_UNSAFE\"] = \"true\"  # Allow unsafe sync DB access in async environment\n",
        "\n",
        "from django.db import transaction\n",
        "from django.dispatch import Signal, receiver\n",
        "from django.db import connection\n",
        "from django.conf import settings # import settings\n",
        "\n",
        "# Define a custom signal\n",
        "my_signal = Signal()\n",
        "\n",
        "# Define a receiver for the custom signal\n",
        "@receiver(my_signal)\n",
        "def my_signal_receiver(sender, **kwargs):\n",
        "    print(\"Signal received.\")\n",
        "    print(f\"Inside transaction in receiver: {connection.in_atomic_block}\")\n",
        "\n",
        "# Function to send signal inside a transaction\n",
        "def send_signal_in_transaction():\n",
        "    if not settings.configured: # Check if settings are configured\n",
        "        settings.configure(DATABASES = { # configure a dummy database\n",
        "            'default': {\n",
        "                'ENGINE': 'django.db.backends.sqlite3',\n",
        "                'NAME': ':memory:',\n",
        "            }\n",
        "        })\n",
        "    with transaction.atomic():\n",
        "        print(f\"Inside transaction block: {connection.in_atomic_block}\")\n",
        "        my_signal.send(sender=None)\n",
        "\n",
        "# Call the function\n",
        "send_signal_in_transaction()"
      ],
      "metadata": {
        "id": "AvQKXVvFcEz0",
        "colab": {
          "base_uri": "https://localhost:8080/"
        },
        "outputId": "64e7cf3a-977c-4528-aeba-be8559c01f8f"
      },
      "execution_count": null,
      "outputs": [
        {
          "output_type": "stream",
          "name": "stdout",
          "text": [
            "Requirement already satisfied: django in /usr/local/lib/python3.10/dist-packages (5.1.1)\n",
            "Requirement already satisfied: asgiref<4,>=3.8.1 in /usr/local/lib/python3.10/dist-packages (from django) (3.8.1)\n",
            "Requirement already satisfied: sqlparse>=0.3.1 in /usr/local/lib/python3.10/dist-packages (from django) (0.5.1)\n",
            "Requirement already satisfied: typing-extensions>=4 in /usr/local/lib/python3.10/dist-packages (from asgiref<4,>=3.8.1->django) (4.12.2)\n",
            "Inside transaction block: True\n",
            "Signal received.\n",
            "Inside transaction in receiver: True\n"
          ]
        },
        {
          "output_type": "stream",
          "name": "stderr",
          "text": [
            "/usr/local/lib/python3.10/dist-packages/django/db/backends/utils.py:98: RuntimeWarning: Accessing the database during app initialization is discouraged. To fix this warning, avoid executing queries in AppConfig.ready() or when your app modules are imported.\n",
            "  warnings.warn(self.APPS_NOT_READY_WARNING_MSG, category=RuntimeWarning)\n"
          ]
        }
      ]
    },
    {
      "cell_type": "markdown",
      "source": [
        "**By default, Django signals, like post_save or custom signals, run in the same database transaction as the caller if triggered within a transaction block. This code demonstrates that both the signal sender and the receiver are part of the same transaction. The connection.in_atomic_block is used to check if the code is within a transaction. When the signal is sent within transaction.atomic(), both the sender (inside the transaction block) and the receiver (inside the signal handler) confirm that they are inside the same database transaction.**"
      ],
      "metadata": {
        "id": "mei_HArtZJ32"
      }
    },
    {
      "cell_type": "markdown",
      "source": [
        "."
      ],
      "metadata": {
        "id": "1W2ZUSeoLJks"
      }
    },
    {
      "cell_type": "markdown",
      "source": [
        "."
      ],
      "metadata": {
        "id": "Gp2sIuSKLJuj"
      }
    },
    {
      "cell_type": "markdown",
      "source": [
        "**Description: You are tasked with creating a Rectangle class with the following requirements:**\n",
        "\n",
        "**An instance of the Rectangle class requires length:int and width:int to be initialized.\n",
        "We can iterate over an instance of the Rectangle class\n",
        "When an instance of the Rectangle class is iterated over, we first get its length in the format: {'length': <VALUE_OF_LENGTH>} followed by the width {width: <VALUE_OF_WIDTH>}**"
      ],
      "metadata": {
        "id": "n7pXFKclK4ya"
      }
    },
    {
      "cell_type": "code",
      "source": [
        "class Rectangle:\n",
        "    def __init__(self, length: int, width: int):\n",
        "        if not isinstance(length, int):\n",
        "            raise TypeError(f\"Expected length to be an int, got {type(length).__name__}.\")\n",
        "        if not isinstance(width, int):\n",
        "            raise TypeError(f\"Expected width to be an int, got {type(width).__name__}.\")\n",
        "\n",
        "        self.length = length\n",
        "        self.width = width\n",
        "\n",
        "    def __iter__(self):\n",
        "        yield {'length': self.length}  # Yield length first\n",
        "        yield {'width': self.width}    # Then yield width\n",
        "\n",
        "try:\n",
        "    rectangle = Rectangle(4, 3)  # Correct integers are passed\n",
        "except TypeError as e:\n",
        "    print(e)\n",
        "\n",
        "for dimension in rectangle:\n",
        "    print(dimension)\n"
      ],
      "metadata": {
        "colab": {
          "base_uri": "https://localhost:8080/"
        },
        "id": "OlCTVja6Ld1I",
        "outputId": "59ae7410-afdc-4d1f-f355-5b2bfbba8604"
      },
      "execution_count": 10,
      "outputs": [
        {
          "output_type": "stream",
          "name": "stdout",
          "text": [
            "{'length': 4}\n",
            "{'width': 3}\n"
          ]
        }
      ]
    },
    {
      "cell_type": "markdown",
      "source": [
        "\n",
        "1.  The `__init__` method checks if `length` and `width` are integers. If not, it raises a `TypeError` with a descriptive message.\n",
        "\n",
        "2.  If the inputs are valid, it assigns them to `self.length` and `self.width`.\n",
        "\n",
        "3.  The `__iter__` method allows iteration over the instance, yielding dictionaries for `length` and `width` in sequence.\n",
        "\n",
        "4.  When creating a `Rectangle` object with valid integers (4 and 3), it works correctly, and iterating over it prints the dimensions as dictionaries."
      ],
      "metadata": {
        "id": "oc42xfJ9RfKs"
      }
    }
  ]
}